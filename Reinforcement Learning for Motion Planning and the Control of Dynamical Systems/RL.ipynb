{
  "cells": [
    {
      "cell_type": "code",
      "execution_count": null,
      "id": "5806c2e9-8ab1-47a7-b09b-71588993082c",
      "metadata": {
        "id": "5806c2e9-8ab1-47a7-b09b-71588993082c"
      },
      "outputs": [],
      "source": [
        "import numpy as np\n",
        "from scipy.integrate import odeint\n",
        "\n",
        "class CarParking:\n",
        "    def __init__(self, delta=0.1):\n",
        "        \"\"\"\n",
        "        Initialize the environment parameters.\n",
        "        :param delta: time step (seconds)\n",
        "        \"\"\"\n",
        "        self.delta = delta\n",
        "        self.state_range = [-5,5]\n",
        "        self.control_inputs = np.array([-5, -1, -0.1, -0.01, -0.001, -0.0001, 0,\n",
        "                                        0.0001, 0.001, 0.01, 0.1, 1, 5])\n",
        "        self.X = np.linspace(-5, 5, 21)\n",
        "        self.V = np.linspace(-5, 5, 21)\n",
        "\n",
        "\n",
        "    def model(self, s, t, u):\n",
        "        \"\"\"\n",
        "        ODE for the car\n",
        "        s: state[x,v]\n",
        "        u: acceleration\n",
        "        t: time\n",
        "        \"\"\"\n",
        "        dsdt = [s[1], u]\n",
        "        return dsdt\n",
        "\n",
        "    def step(self, state, action):\n",
        "        \"\"\"\n",
        "        Apply one control action for one time step(delta=0.1)\n",
        "        state: current [x,v]\n",
        "        action: acceleration (u)\n",
        "        returns next_state\n",
        "        \"\"\"\n",
        "        t = np.linspace(0, 0.1, 2)\n",
        "        next_state = odeint(self.model, state, t, args=(action,))[-1]\n",
        "        next_state = np.clip(next_state, self.state_range[0], self.state_range[1])\n",
        "        return next_state\n",
        "\n",
        "\n",
        "    def discretize_state(self, state):\n",
        "        \"\"\"\n",
        "        Map continuous state to discrete indices for Q-table lookup\n",
        "        state: [x,u]\n",
        "        returns (x_idx, y_idx)\n",
        "        \"\"\"\n",
        "        x, v = state\n",
        "        #finding the nearest gridpoints\n",
        "        x_idx = np.argmin(np.abs(self.X - x))\n",
        "        v_idx = np.argmin(np.abs(self.V - v))\n",
        "        return x_idx, v_idx\n",
        "\n",
        "\n",
        "    def get_trajectory(self, s0, q_table, max_steps=100):\n",
        "        \"\"\"\n",
        "        Generate a greedy approach given a Q-table\n",
        "        s0: initial state[x0, v0]\n",
        "        q_table: shape\n",
        "        max_steps: maximum steps\n",
        "        returns: list of (state, action_idx, reward)\n",
        "        \"\"\"\n",
        "        trajectory = [s0]\n",
        "        s = s0\n",
        "        for _ in range(max_steps):\n",
        "            x_idx, v_idx = self.discretize_state(s)\n",
        "            a_idx = np.argmax(q_table[x_idx, v_idx])\n",
        "            u = self.control_inputs[a_idx]\n",
        "            s = self.step(s,u)\n",
        "            trajectory.append(s)\n",
        "            if np.linalg.norm(s) < 0.01:\n",
        "                break\n",
        "        return trajectory"
      ]
    },
    {
      "cell_type": "code",
      "execution_count": null,
      "id": "9cd9945d-e2bf-4772-be65-11d380cb3667",
      "metadata": {
        "id": "9cd9945d-e2bf-4772-be65-11d380cb3667"
      },
      "outputs": [],
      "source": [
        "def calculate_reward(state):\n",
        "    \"\"\"\n",
        "    Calculte reward\n",
        "    state: [x,v]\n",
        "    \"\"\"\n",
        "    x, v = state\n",
        "    if np.linalg.norm(state) < 0.01:\n",
        "        return 100\n",
        "    return -(x**2 + v**2)"
      ]
    },
    {
      "cell_type": "code",
      "execution_count": null,
      "id": "c49370e8-2543-4a79-946e-8a5cc14fafdf",
      "metadata": {
        "id": "c49370e8-2543-4a79-946e-8a5cc14fafdf"
      },
      "outputs": [],
      "source": [
        "import numpy as np\n",
        "import random\n",
        "from tqdm import tqdm\n",
        "\n",
        "class QLearningAgent:\n",
        "    def __init__(self, env, learning_rate=0.01, discount_factor=0.9, epsilon_greedy=0.9,\n",
        "                 epsilon_min=0.1, epsilon_decay=0.995):\n",
        "        self.env = env\n",
        "        self.lr = learning_rate\n",
        "        self.gamma = discount_factor\n",
        "        self.epsilon = epsilon_greedy\n",
        "        self.epsilon_min = epsilon_min\n",
        "        self.epsilon_decay = epsilon_decay\n",
        "        ## Define the q_table\n",
        "        self.q_table = np.zeros((len(env.X), len(env.V), len(env.control_inputs)))\n",
        "\n",
        "    def choose_action(self, state):\n",
        "        x_idx, v_idx = self.env.discretize_state(state)\n",
        "        if random.uniform(0, 1) < self.epsilon:\n",
        "            return random.randint(0, len(self.env.control_inputs) - 1)\n",
        "        else:\n",
        "            q_vals = self.q_table[x_idx, v_idx]\n",
        "            perm_actions = np.random.permutation(len(self.env.control_inputs))\n",
        "            q_vals_perm = [q_vals[a] for a in perm_actions]\n",
        "            return perm_actions[np.argmax(q_vals_perm)]\n",
        "\n",
        "    def _learn(self, transition):\n",
        "        \"\"\"\n",
        "        Updates Q-table using TD learning rule:\n",
        "        Q(s,a) <- Q(s,a) + α [r + γ max_a' Q(s',a') - Q(s,a)]\n",
        "        \"\"\"\n",
        "        s, a, r, next_s, done = transition\n",
        "        # Discretize current and next states for indexing\n",
        "        x_idx, v_idx = self.env.discretize_state(s)\n",
        "        next_x_idx, next_v_idx = self.env.discretize_state(next_s)\n",
        "\n",
        "        #Current Q-value\n",
        "        q_val = self.q_table[x_idx, v_idx, a]\n",
        "        if done:\n",
        "            #Terminal state\n",
        "            q_target = r\n",
        "        else:\n",
        "            #Non-terminal state\n",
        "            q_target = r + self.gamma * np.max(self.q_table[next_x_idx, next_v_idx])\n",
        "        #Update rule\n",
        "        self.q_table[x_idx, v_idx, a] += self.lr * (q_target - q_val)\n",
        "\n",
        "        #Decay exploration rate\n",
        "        self._adjust_epsilon()\n",
        "\n",
        "    def _adjust_epsilon(self):\n",
        "        \"\"\"\n",
        "        Gradually reduce ε to a minimum for balcncing exploration and exploitation\n",
        "        \"\"\"\n",
        "        if self.epsilon > self.epsilon_min:\n",
        "            self.epsilon *= self.epsilon_decay\n",
        "\n",
        "    def train(self, episodes=10000, max_steps=500):\n",
        "        \"\"\"\n",
        "        Run Q-leaning for a given number of episodes\n",
        "        \"\"\"\n",
        "        for _ in tqdm(range(episodes)):\n",
        "            state = np.random.uniform(-5, 5, size=2)  # Random start\n",
        "            for _ in range(max_steps):\n",
        "                a_idx = self.choose_action(state)\n",
        "                u = self.env.control_inputs[a_idx]\n",
        "                next_state = self.env.step(state, u)\n",
        "                reward = calculate_reward(next_state)\n",
        "                done = np.linalg.norm(next_state) < 0.01\n",
        "\n",
        "                transition = (state, a_idx, reward, next_state, done)\n",
        "                self._learn(transition)\n",
        "\n",
        "                state = next_state\n",
        "                if done:\n",
        "                    break\n",
        "\n",
        "    def print_q_table(self):\n",
        "        \"\"\"\n",
        "        Prints the entire Q-table\n",
        "        \"\"\"\n",
        "        print(self.q_table)"
      ]
    },
    {
      "cell_type": "code",
      "execution_count": null,
      "id": "d524e486-ec0e-4f51-8ae1-c783164bf8c4",
      "metadata": {
        "colab": {
          "base_uri": "https://localhost:8080/"
        },
        "id": "d524e486-ec0e-4f51-8ae1-c783164bf8c4",
        "outputId": "4dcc126f-0250-462d-bf2b-f3e41ddce5a9"
      },
      "outputs": [
        {
          "name": "stderr",
          "output_type": "stream",
          "text": [
            "100%|████████████████████████████████████████████████████████████████████████████| 10000/10000 [04:56<00:00, 33.73it/s]\n"
          ]
        }
      ],
      "source": [
        "env = CarParking()\n",
        "agent = QLearningAgent(env)\n",
        "agent.train(episodes=10000, max_steps=500)"
      ]
    },
    {
      "cell_type": "code",
      "execution_count": null,
      "id": "16fcd280-b961-4a67-a08e-f100daad4c2c",
      "metadata": {
        "id": "16fcd280-b961-4a67-a08e-f100daad4c2c"
      },
      "outputs": [],
      "source": [
        "def evaluate_policy(env, q_table, test_states=None):\n",
        "    \"\"\"\n",
        "    Evaluate a learned Q-policy by executing its greedy policy on specified inintial state\n",
        "    env: CarParking environment\n",
        "    q_table: Q- table\n",
        "    test_states: list of inital [x,v] states for testing\n",
        "    returns: (success_rate, average steps)\n",
        "            success_rate: fraction of test episodes that reached the goal\n",
        "            average_steps: average number of steps taken per episode\n",
        "    \"\"\"\n",
        "    if test_states is None:\n",
        "        test_states = [[5,5]]\n",
        "\n",
        "    successes = 0\n",
        "    total_steps = 0\n",
        "\n",
        "    for s0 in test_states:\n",
        "        s = s0\n",
        "        for _ in range(20000):  # max steps per episode\n",
        "            x_idx, v_idx = env.discretize_state(s)\n",
        "            state_key = (x_idx, v_idx)\n",
        "            if isinstance(q_table, np.ndarray):\n",
        "                a_idx = np.argmax(q_table[x_idx, v_idx])\n",
        "            else:\n",
        "                a_idx = np.argmax(q_table[state_key])\n",
        "\n",
        "            u = env.control_inputs[a_idx]\n",
        "            s = env.step(s, u)\n",
        "            total_steps += 1\n",
        "            if np.linalg.norm(s) < 0.01:\n",
        "                successes += 1\n",
        "                break\n",
        "\n",
        "    #Overall metrics\n",
        "    success_rate = successes / len(test_states)\n",
        "    avg_steps = total_steps / len(test_states)\n",
        "    return success_rate, avg_steps\n"
      ]
    },
    {
      "cell_type": "code",
      "execution_count": null,
      "id": "4c45b530-54f4-4341-8807-2a7a528c2343",
      "metadata": {
        "colab": {
          "base_uri": "https://localhost:8080/"
        },
        "id": "4c45b530-54f4-4341-8807-2a7a528c2343",
        "outputId": "c3be2283-42de-42c3-ed02-5652666794a9"
      },
      "outputs": [
        {
          "name": "stdout",
          "output_type": "stream",
          "text": [
            "✅ Success Rate: 0.00%\n",
            "📏 Average Steps to Park: 20000.00\n"
          ]
        }
      ],
      "source": [
        "success_rate, avg_steps = evaluate_policy(env, agent.q_table)\n",
        "print(f\"✅ Success Rate: {success_rate*100:.2f}%\")\n",
        "print(f\"📏 Average Steps to Park: {avg_steps:.2f}\")"
      ]
    },
    {
      "cell_type": "code",
      "execution_count": null,
      "id": "e3df8898-371f-4425-abe9-4c2d692a13b4",
      "metadata": {
        "colab": {
          "base_uri": "https://localhost:8080/"
        },
        "id": "e3df8898-371f-4425-abe9-4c2d692a13b4",
        "outputId": "775e256e-c6b2-4b80-b53d-904f44b5c6d9"
      },
      "outputs": [
        {
          "name": "stdout",
          "output_type": "stream",
          "text": [
            "\n",
            "Grid=21, LR=0.1, Gamma=0.9, Episodes=3000, MaxSteps=300\n"
          ]
        },
        {
          "name": "stderr",
          "output_type": "stream",
          "text": [
            "100%|██████████████████████████████████████████████████████████████████████████████| 3000/3000 [00:55<00:00, 54.39it/s]\n"
          ]
        },
        {
          "name": "stdout",
          "output_type": "stream",
          "text": [
            "\n",
            "Grid=21, LR=0.1, Gamma=0.9, Episodes=5000, MaxSteps=500\n"
          ]
        },
        {
          "name": "stderr",
          "output_type": "stream",
          "text": [
            "100%|██████████████████████████████████████████████████████████████████████████████| 5000/5000 [02:29<00:00, 33.35it/s]\n"
          ]
        },
        {
          "name": "stdout",
          "output_type": "stream",
          "text": [
            "\n",
            "Grid=21, LR=0.1, Gamma=0.9, Episodes=10000, MaxSteps=500\n"
          ]
        },
        {
          "name": "stderr",
          "output_type": "stream",
          "text": [
            "100%|████████████████████████████████████████████████████████████████████████████| 10000/10000 [05:02<00:00, 33.10it/s]\n"
          ]
        },
        {
          "name": "stdout",
          "output_type": "stream",
          "text": [
            "\n",
            "Grid=21, LR=0.1, Gamma=0.99, Episodes=3000, MaxSteps=300\n"
          ]
        },
        {
          "name": "stderr",
          "output_type": "stream",
          "text": [
            "100%|██████████████████████████████████████████████████████████████████████████████| 3000/3000 [00:56<00:00, 52.91it/s]\n"
          ]
        },
        {
          "name": "stdout",
          "output_type": "stream",
          "text": [
            "\n",
            "Grid=21, LR=0.1, Gamma=0.99, Episodes=5000, MaxSteps=500\n"
          ]
        },
        {
          "name": "stderr",
          "output_type": "stream",
          "text": [
            "100%|██████████████████████████████████████████████████████████████████████████████| 5000/5000 [02:41<00:00, 31.01it/s]\n"
          ]
        },
        {
          "name": "stdout",
          "output_type": "stream",
          "text": [
            "\n",
            "Grid=21, LR=0.1, Gamma=0.99, Episodes=10000, MaxSteps=500\n"
          ]
        },
        {
          "name": "stderr",
          "output_type": "stream",
          "text": [
            "100%|████████████████████████████████████████████████████████████████████████████| 10000/10000 [05:11<00:00, 32.09it/s]\n"
          ]
        },
        {
          "name": "stdout",
          "output_type": "stream",
          "text": [
            "\n",
            "Grid=21, LR=0.01, Gamma=0.9, Episodes=3000, MaxSteps=300\n"
          ]
        },
        {
          "name": "stderr",
          "output_type": "stream",
          "text": [
            "100%|██████████████████████████████████████████████████████████████████████████████| 3000/3000 [00:57<00:00, 51.80it/s]\n"
          ]
        },
        {
          "name": "stdout",
          "output_type": "stream",
          "text": [
            "\n",
            "Grid=21, LR=0.01, Gamma=0.9, Episodes=5000, MaxSteps=500\n"
          ]
        },
        {
          "name": "stderr",
          "output_type": "stream",
          "text": [
            "100%|██████████████████████████████████████████████████████████████████████████████| 5000/5000 [02:35<00:00, 32.14it/s]\n"
          ]
        },
        {
          "name": "stdout",
          "output_type": "stream",
          "text": [
            "\n",
            "Grid=21, LR=0.01, Gamma=0.9, Episodes=10000, MaxSteps=500\n"
          ]
        },
        {
          "name": "stderr",
          "output_type": "stream",
          "text": [
            "100%|████████████████████████████████████████████████████████████████████████████| 10000/10000 [05:07<00:00, 32.47it/s]\n"
          ]
        },
        {
          "name": "stdout",
          "output_type": "stream",
          "text": [
            "\n",
            "Grid=21, LR=0.01, Gamma=0.99, Episodes=3000, MaxSteps=300\n"
          ]
        },
        {
          "name": "stderr",
          "output_type": "stream",
          "text": [
            "100%|██████████████████████████████████████████████████████████████████████████████| 3000/3000 [00:58<00:00, 51.28it/s]\n"
          ]
        },
        {
          "name": "stdout",
          "output_type": "stream",
          "text": [
            "\n",
            "Grid=21, LR=0.01, Gamma=0.99, Episodes=5000, MaxSteps=500\n"
          ]
        },
        {
          "name": "stderr",
          "output_type": "stream",
          "text": [
            "100%|██████████████████████████████████████████████████████████████████████████████| 5000/5000 [02:35<00:00, 32.21it/s]\n"
          ]
        },
        {
          "name": "stdout",
          "output_type": "stream",
          "text": [
            "\n",
            "Grid=21, LR=0.01, Gamma=0.99, Episodes=10000, MaxSteps=500\n"
          ]
        },
        {
          "name": "stderr",
          "output_type": "stream",
          "text": [
            "100%|████████████████████████████████████████████████████████████████████████████| 10000/10000 [05:03<00:00, 32.92it/s]\n"
          ]
        },
        {
          "name": "stdout",
          "output_type": "stream",
          "text": [
            "\n",
            "Grid=51, LR=0.1, Gamma=0.9, Episodes=3000, MaxSteps=300\n"
          ]
        },
        {
          "name": "stderr",
          "output_type": "stream",
          "text": [
            "100%|██████████████████████████████████████████████████████████████████████████████| 3000/3000 [00:54<00:00, 54.68it/s]\n"
          ]
        },
        {
          "name": "stdout",
          "output_type": "stream",
          "text": [
            "\n",
            "Grid=51, LR=0.1, Gamma=0.9, Episodes=5000, MaxSteps=500\n"
          ]
        },
        {
          "name": "stderr",
          "output_type": "stream",
          "text": [
            "100%|██████████████████████████████████████████████████████████████████████████████| 5000/5000 [02:15<00:00, 36.80it/s]\n"
          ]
        },
        {
          "name": "stdout",
          "output_type": "stream",
          "text": [
            "\n",
            "Grid=51, LR=0.1, Gamma=0.9, Episodes=10000, MaxSteps=500\n"
          ]
        },
        {
          "name": "stderr",
          "output_type": "stream",
          "text": [
            "100%|████████████████████████████████████████████████████████████████████████████| 10000/10000 [04:27<00:00, 37.33it/s]\n"
          ]
        },
        {
          "name": "stdout",
          "output_type": "stream",
          "text": [
            "\n",
            "Grid=51, LR=0.1, Gamma=0.99, Episodes=3000, MaxSteps=300\n"
          ]
        },
        {
          "name": "stderr",
          "output_type": "stream",
          "text": [
            "100%|██████████████████████████████████████████████████████████████████████████████| 3000/3000 [00:53<00:00, 55.79it/s]\n"
          ]
        },
        {
          "name": "stdout",
          "output_type": "stream",
          "text": [
            "\n",
            "Grid=51, LR=0.1, Gamma=0.99, Episodes=5000, MaxSteps=500\n"
          ]
        },
        {
          "name": "stderr",
          "output_type": "stream",
          "text": [
            "100%|██████████████████████████████████████████████████████████████████████████████| 5000/5000 [02:14<00:00, 37.26it/s]\n"
          ]
        },
        {
          "name": "stdout",
          "output_type": "stream",
          "text": [
            "\n",
            "Grid=51, LR=0.1, Gamma=0.99, Episodes=10000, MaxSteps=500\n"
          ]
        },
        {
          "name": "stderr",
          "output_type": "stream",
          "text": [
            "100%|████████████████████████████████████████████████████████████████████████████| 10000/10000 [04:06<00:00, 40.54it/s]\n"
          ]
        },
        {
          "name": "stdout",
          "output_type": "stream",
          "text": [
            "\n",
            "Grid=51, LR=0.01, Gamma=0.9, Episodes=3000, MaxSteps=300\n"
          ]
        },
        {
          "name": "stderr",
          "output_type": "stream",
          "text": [
            "100%|██████████████████████████████████████████████████████████████████████████████| 3000/3000 [00:54<00:00, 54.66it/s]\n"
          ]
        },
        {
          "name": "stdout",
          "output_type": "stream",
          "text": [
            "\n",
            "Grid=51, LR=0.01, Gamma=0.9, Episodes=5000, MaxSteps=500\n"
          ]
        },
        {
          "name": "stderr",
          "output_type": "stream",
          "text": [
            "100%|██████████████████████████████████████████████████████████████████████████████| 5000/5000 [02:16<00:00, 36.56it/s]\n"
          ]
        },
        {
          "name": "stdout",
          "output_type": "stream",
          "text": [
            "\n",
            "Grid=51, LR=0.01, Gamma=0.9, Episodes=10000, MaxSteps=500\n"
          ]
        },
        {
          "name": "stderr",
          "output_type": "stream",
          "text": [
            "100%|████████████████████████████████████████████████████████████████████████████| 10000/10000 [04:19<00:00, 38.47it/s]\n"
          ]
        },
        {
          "name": "stdout",
          "output_type": "stream",
          "text": [
            "\n",
            "Grid=51, LR=0.01, Gamma=0.99, Episodes=3000, MaxSteps=300\n"
          ]
        },
        {
          "name": "stderr",
          "output_type": "stream",
          "text": [
            "100%|██████████████████████████████████████████████████████████████████████████████| 3000/3000 [00:57<00:00, 51.90it/s]\n"
          ]
        },
        {
          "name": "stdout",
          "output_type": "stream",
          "text": [
            "\n",
            "Grid=51, LR=0.01, Gamma=0.99, Episodes=5000, MaxSteps=500\n"
          ]
        },
        {
          "name": "stderr",
          "output_type": "stream",
          "text": [
            "100%|██████████████████████████████████████████████████████████████████████████████| 5000/5000 [03:55<00:00, 21.25it/s]\n"
          ]
        },
        {
          "name": "stdout",
          "output_type": "stream",
          "text": [
            "\n",
            "Grid=51, LR=0.01, Gamma=0.99, Episodes=10000, MaxSteps=500\n"
          ]
        },
        {
          "name": "stderr",
          "output_type": "stream",
          "text": [
            "100%|████████████████████████████████████████████████████████████████████████████| 10000/10000 [06:09<00:00, 27.06it/s]\n"
          ]
        },
        {
          "name": "stdout",
          "output_type": "stream",
          "text": [
            "\n",
            "Grid=101, LR=0.1, Gamma=0.9, Episodes=3000, MaxSteps=300\n"
          ]
        },
        {
          "name": "stderr",
          "output_type": "stream",
          "text": [
            "100%|██████████████████████████████████████████████████████████████████████████████| 3000/3000 [01:20<00:00, 37.15it/s]\n"
          ]
        },
        {
          "name": "stdout",
          "output_type": "stream",
          "text": [
            "\n",
            "Grid=101, LR=0.1, Gamma=0.9, Episodes=5000, MaxSteps=500\n"
          ]
        },
        {
          "name": "stderr",
          "output_type": "stream",
          "text": [
            "100%|██████████████████████████████████████████████████████████████████████████████| 5000/5000 [02:59<00:00, 27.90it/s]\n"
          ]
        },
        {
          "name": "stdout",
          "output_type": "stream",
          "text": [
            "\n",
            "Grid=101, LR=0.1, Gamma=0.9, Episodes=10000, MaxSteps=500\n"
          ]
        },
        {
          "name": "stderr",
          "output_type": "stream",
          "text": [
            "100%|████████████████████████████████████████████████████████████████████████████| 10000/10000 [04:00<00:00, 41.57it/s]\n"
          ]
        },
        {
          "name": "stdout",
          "output_type": "stream",
          "text": [
            "\n",
            "Grid=101, LR=0.1, Gamma=0.99, Episodes=3000, MaxSteps=300\n"
          ]
        },
        {
          "name": "stderr",
          "output_type": "stream",
          "text": [
            "100%|██████████████████████████████████████████████████████████████████████████████| 3000/3000 [01:37<00:00, 30.81it/s]\n"
          ]
        },
        {
          "name": "stdout",
          "output_type": "stream",
          "text": [
            "\n",
            "Grid=101, LR=0.1, Gamma=0.99, Episodes=5000, MaxSteps=500\n"
          ]
        },
        {
          "name": "stderr",
          "output_type": "stream",
          "text": [
            "100%|██████████████████████████████████████████████████████████████████████████████| 5000/5000 [02:01<00:00, 41.19it/s]\n"
          ]
        },
        {
          "name": "stdout",
          "output_type": "stream",
          "text": [
            "\n",
            "Grid=101, LR=0.1, Gamma=0.99, Episodes=10000, MaxSteps=500\n"
          ]
        },
        {
          "name": "stderr",
          "output_type": "stream",
          "text": [
            "100%|████████████████████████████████████████████████████████████████████████████| 10000/10000 [03:41<00:00, 45.11it/s]\n"
          ]
        },
        {
          "name": "stdout",
          "output_type": "stream",
          "text": [
            "\n",
            "Grid=101, LR=0.01, Gamma=0.9, Episodes=3000, MaxSteps=300\n"
          ]
        },
        {
          "name": "stderr",
          "output_type": "stream",
          "text": [
            "100%|██████████████████████████████████████████████████████████████████████████████| 3000/3000 [01:21<00:00, 36.87it/s]\n"
          ]
        },
        {
          "name": "stdout",
          "output_type": "stream",
          "text": [
            "\n",
            "Grid=101, LR=0.01, Gamma=0.9, Episodes=5000, MaxSteps=500\n"
          ]
        },
        {
          "name": "stderr",
          "output_type": "stream",
          "text": [
            "100%|██████████████████████████████████████████████████████████████████████████████| 5000/5000 [02:58<00:00, 28.01it/s]\n"
          ]
        },
        {
          "name": "stdout",
          "output_type": "stream",
          "text": [
            "\n",
            "Grid=101, LR=0.01, Gamma=0.9, Episodes=10000, MaxSteps=500\n"
          ]
        },
        {
          "name": "stderr",
          "output_type": "stream",
          "text": [
            "100%|████████████████████████████████████████████████████████████████████████████| 10000/10000 [04:56<00:00, 33.78it/s]\n"
          ]
        },
        {
          "name": "stdout",
          "output_type": "stream",
          "text": [
            "\n",
            "Grid=101, LR=0.01, Gamma=0.99, Episodes=3000, MaxSteps=300\n"
          ]
        },
        {
          "name": "stderr",
          "output_type": "stream",
          "text": [
            "100%|██████████████████████████████████████████████████████████████████████████████| 3000/3000 [01:23<00:00, 35.98it/s]\n"
          ]
        },
        {
          "name": "stdout",
          "output_type": "stream",
          "text": [
            "\n",
            "Grid=101, LR=0.01, Gamma=0.99, Episodes=5000, MaxSteps=500\n"
          ]
        },
        {
          "name": "stderr",
          "output_type": "stream",
          "text": [
            "100%|██████████████████████████████████████████████████████████████████████████████| 5000/5000 [03:07<00:00, 26.60it/s]\n"
          ]
        },
        {
          "name": "stdout",
          "output_type": "stream",
          "text": [
            "\n",
            "Grid=101, LR=0.01, Gamma=0.99, Episodes=10000, MaxSteps=500\n"
          ]
        },
        {
          "name": "stderr",
          "output_type": "stream",
          "text": [
            "100%|████████████████████████████████████████████████████████████████████████████| 10000/10000 [05:28<00:00, 30.42it/s]\n"
          ]
        },
        {
          "name": "stdout",
          "output_type": "stream",
          "text": [
            "    grid_size  learning_rate  discount_factor  episodes  max_steps  \\\n",
            "0          21           0.10             0.90      3000        300   \n",
            "1          21           0.10             0.90      5000        500   \n",
            "2          21           0.10             0.90     10000        500   \n",
            "3          21           0.10             0.99      3000        300   \n",
            "4          21           0.10             0.99      5000        500   \n",
            "5          21           0.10             0.99     10000        500   \n",
            "6          21           0.01             0.90      3000        300   \n",
            "7          21           0.01             0.90      5000        500   \n",
            "8          21           0.01             0.90     10000        500   \n",
            "9          21           0.01             0.99      3000        300   \n",
            "10         21           0.01             0.99      5000        500   \n",
            "11         21           0.01             0.99     10000        500   \n",
            "12         51           0.10             0.90      3000        300   \n",
            "13         51           0.10             0.90      5000        500   \n",
            "14         51           0.10             0.90     10000        500   \n",
            "15         51           0.10             0.99      3000        300   \n",
            "16         51           0.10             0.99      5000        500   \n",
            "17         51           0.10             0.99     10000        500   \n",
            "18         51           0.01             0.90      3000        300   \n",
            "19         51           0.01             0.90      5000        500   \n",
            "20         51           0.01             0.90     10000        500   \n",
            "21         51           0.01             0.99      3000        300   \n",
            "22         51           0.01             0.99      5000        500   \n",
            "23         51           0.01             0.99     10000        500   \n",
            "24        101           0.10             0.90      3000        300   \n",
            "25        101           0.10             0.90      5000        500   \n",
            "26        101           0.10             0.90     10000        500   \n",
            "27        101           0.10             0.99      3000        300   \n",
            "28        101           0.10             0.99      5000        500   \n",
            "29        101           0.10             0.99     10000        500   \n",
            "30        101           0.01             0.90      3000        300   \n",
            "31        101           0.01             0.90      5000        500   \n",
            "32        101           0.01             0.90     10000        500   \n",
            "33        101           0.01             0.99      3000        300   \n",
            "34        101           0.01             0.99      5000        500   \n",
            "35        101           0.01             0.99     10000        500   \n",
            "\n",
            "    success_rate     avg_steps  \n",
            "0       0.118056  10346.294118  \n",
            "1       0.625000   1143.566667  \n",
            "2       0.138889   3124.550000  \n",
            "3       0.041667   2568.500000  \n",
            "4       0.006944      0.000000  \n",
            "5       0.187500   4700.481481  \n",
            "6       0.000000           NaN  \n",
            "7       0.048611  11568.857143  \n",
            "8       0.000000           NaN  \n",
            "9       0.000000           NaN  \n",
            "10      0.006944    815.000000  \n",
            "11      0.006944     28.000000  \n",
            "12      0.006944     88.000000  \n",
            "13      0.937500    514.592593  \n",
            "14      0.000000           NaN  \n",
            "15      0.944444   2471.720588  \n",
            "16      0.847222    825.918033  \n",
            "17      0.847222    268.557377  \n",
            "18      0.020833     22.000000  \n",
            "19      0.041667   1011.166667  \n",
            "20      0.013889     10.000000  \n",
            "21      0.006944     35.000000  \n",
            "22      0.430556   1387.322581  \n",
            "23      0.416667   3306.716667  \n",
            "24      0.527778   1782.500000  \n",
            "25      0.006944      0.000000  \n",
            "26      0.881944   5123.464567  \n",
            "27      0.381944    400.345455  \n",
            "28      0.527778    493.131579  \n",
            "29      0.798611   1020.000000  \n",
            "30      0.097222    154.000000  \n",
            "31      0.145833    243.571429  \n",
            "32      0.236111    714.323529  \n",
            "33      0.055556    370.375000  \n",
            "34      0.131944    188.789474  \n",
            "35      0.270833    343.923077  \n"
          ]
        }
      ],
      "source": [
        "import numpy as np\n",
        "from tqdm import tqdm\n",
        "import itertools\n",
        "import pandas as pd\n",
        "\n",
        "# Hyperparameters\n",
        "grid_sizes = [21, 51, 101]\n",
        "learning_rates = [0.1, 0.01]\n",
        "discount_factors = [0.9, 0.99]\n",
        "training_configs = [(3000, 300), (5000, 500), (10000, 500)]\n",
        "\n",
        "# Results\n",
        "results = []\n",
        "\n",
        "# Training and Evaluation\n",
        "for size in grid_sizes:\n",
        "    for lr in learning_rates:\n",
        "        for gamma in discount_factors:\n",
        "            for episodes, max_steps in training_configs:\n",
        "                print(f\"\\nGrid={size}, LR={lr}, Gamma={gamma}, Episodes={episodes}, MaxSteps={max_steps}\")\n",
        "\n",
        "                # Create environment and set grid\n",
        "                env = CarParking(delta=0.1)\n",
        "                env.X = np.linspace(-5, 5, size)\n",
        "                env.V = np.linspace(-5, 5, size)\n",
        "\n",
        "                # Initialize agent\n",
        "                agent = QLearningAgent(env, learning_rate=lr, discount_factor=gamma,\n",
        "                                       epsilon_greedy=1.0, epsilon_min=0.1, epsilon_decay=0.995)\n",
        "\n",
        "                # Train\n",
        "                agent.train(episodes=episodes, max_steps=max_steps)\n",
        "\n",
        "                # Evaluation\n",
        "                values = [-5, -4, -3.4, -3, -2.5, 0.0, 1, 2, 2.5, 3.5, 4.5, 5]\n",
        "                test_states = [[x, v] for x, v in itertools.product(values, values)]\n",
        "\n",
        "                successes = 0\n",
        "                total_steps = 0\n",
        "\n",
        "                for s0 in test_states:\n",
        "                    s = s0\n",
        "                    for step_count in range(20000):\n",
        "                        x_idx, v_idx = env.discretize_state(s)\n",
        "                        a = np.argmax(agent.q_table[x_idx, v_idx])\n",
        "                        u = env.control_inputs[a]\n",
        "                        s = env.step(s, u)\n",
        "                        if np.linalg.norm(s) < 0.01:\n",
        "                            successes += 1\n",
        "                            total_steps += step_count\n",
        "                            break\n",
        "\n",
        "                success_rate = successes / len(test_states)\n",
        "                avg_steps = total_steps / successes if successes > 0 else None\n",
        "\n",
        "                results.append({\n",
        "                    \"grid_size\": size,\n",
        "                    \"learning_rate\": lr,\n",
        "                    \"discount_factor\": gamma,\n",
        "                    \"episodes\": episodes,\n",
        "                    \"max_steps\": max_steps,\n",
        "                    \"success_rate\": success_rate,\n",
        "                    \"avg_steps\": avg_steps\n",
        "                })\n",
        "\n",
        "#Results\n",
        "df = pd.DataFrame(results)\n",
        "print(df)\n"
      ]
    },
    {
      "cell_type": "code",
      "execution_count": null,
      "id": "7ea565bd-18fa-4050-bd79-775c410d4f66",
      "metadata": {
        "id": "7ea565bd-18fa-4050-bd79-775c410d4f66"
      },
      "outputs": [],
      "source": []
    }
  ],
  "metadata": {
    "colab": {
      "provenance": []
    },
    "kernelspec": {
      "display_name": "Python 3 (ipykernel)",
      "language": "python",
      "name": "python3"
    },
    "language_info": {
      "codemirror_mode": {
        "name": "ipython",
        "version": 3
      },
      "file_extension": ".py",
      "mimetype": "text/x-python",
      "name": "python",
      "nbconvert_exporter": "python",
      "pygments_lexer": "ipython3",
      "version": "3.10.9"
    }
  },
  "nbformat": 4,
  "nbformat_minor": 5
}